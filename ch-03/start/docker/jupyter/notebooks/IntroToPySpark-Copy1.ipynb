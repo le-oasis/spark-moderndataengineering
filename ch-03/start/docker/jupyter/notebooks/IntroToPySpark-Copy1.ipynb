{
 "cells": [
  {
   "cell_type": "markdown",
   "id": "74d0bdfa-f6f5-4b53-b0ed-1f25f3226a55",
   "metadata": {},
   "source": [
    "# Introduction to Spark on JupyterNotebook"
   ]
  },
  {
   "cell_type": "markdown",
   "id": "794f1ef0-6930-4708-b13a-be7e5f4b1f0f",
   "metadata": {},
   "source": [
    "#### Importing Libraries"
   ]
  },
  {
   "cell_type": "code",
   "execution_count": 1,
   "id": "644d4615-a76f-4f99-9252-0fce1b5e22ef",
   "metadata": {
    "tags": []
   },
   "outputs": [],
   "source": [
    "# PySpark is the main library for Spark\n",
    "import pyspark \n",
    "# SparkContext is the entry point for Spark functionality\n",
    "from pyspark import SparkContext \n",
    "# SparkSession is the entry point for DataFrame and SQL functionality\n",
    "from pyspark.sql import SparkSession \n",
    "\n",
    "# SQLContext is the entry point for SparkSQL functionality, providing a way to interact with structured data using SQL queries, as well as integrating with various data sources and data formats. \n",
    "#It is required to create Spark DataFrames, which are the primary data structure for working with structured data in PySpark.\n",
    "from pyspark import SQLContext"
   ]
  },
  {
   "cell_type": "code",
   "execution_count": 2,
   "id": "91dbc090-3076-4f64-9f48-506756ee4379",
   "metadata": {
    "tags": []
   },
   "outputs": [],
   "source": [
    "# Provides a way of using operating system dependent functionality\n",
    "import os \n",
    "# Delta is a storage layer for data lakes\n",
    "from delta.tables import * \n",
    "# DeltaTable is the main class for Delta tables\n",
    "from delta.tables import DeltaTable \n",
    "# Provides cryptographic hashing functions\n",
    "import hashlib \n",
    " # Provides classes for working with dates and times\n",
    "import datetime\n",
    "# Provides functions for working with URLs\n",
    "import urllib.request \n",
    "# Provides functions for working with JSON data\n",
    "import json \n",
    " # Import timedelta and date classes from datetime module\n",
    "from datetime import timedelta, date\n",
    "# Provides functions for working with iterables\n",
    "from itertools import islice \n",
    "# Provides access to some variables used or maintained by the interpreter and to functions that interact strongly with the interpreter.\n",
    "import sys "
   ]
  },
  {
   "cell_type": "code",
   "execution_count": 3,
   "id": "2713f4f9-a2be-4312-931c-1b74a2aaeda1",
   "metadata": {
    "tags": []
   },
   "outputs": [],
   "source": [
    "import warnings\n",
    "\n",
    "# Ignore warnings\n",
    "warnings.filterwarnings(\"ignore\", category=DeprecationWarning)\n",
    "warnings.filterwarnings(\"ignore\", category=UserWarning)\n",
    "\n",
    "# Ignore warnings from Apache Spark\n",
    "warnings.filterwarnings(\"ignore\", message=\".*consider reporting.*\")\n",
    "warnings.filterwarnings(\"ignore\", message=\".*illegal-access.*\")\n",
    "warnings.filterwarnings(\"ignore\", message=\".*default log level.*\")"
   ]
  },
  {
   "cell_type": "markdown",
   "id": "76dabdaa-3180-4645-befa-ece626a76322",
   "metadata": {},
   "source": [
    "# Create SparkSession"
   ]
  },
  {
   "cell_type": "code",
   "execution_count": null,
   "id": "c5d52e48-f4cb-4cd3-a5c8-50cb1701a250",
   "metadata": {},
   "outputs": [],
   "source": []
  },
  {
   "cell_type": "code",
   "execution_count": 4,
   "id": "2205225e-18a3-4f43-b18e-20b5ebb62a2d",
   "metadata": {
    "tags": []
   },
   "outputs": [
    {
     "name": "stderr",
     "output_type": "stream",
     "text": [
      "WARNING: An illegal reflective access operation has occurred\n",
      "WARNING: Illegal reflective access by org.apache.spark.unsafe.Platform (file:/usr/local/spark-3.2.0-bin-hadoop3.2/jars/spark-unsafe_2.12-3.2.0.jar) to constructor java.nio.DirectByteBuffer(long,int)\n",
      "WARNING: Please consider reporting this to the maintainers of org.apache.spark.unsafe.Platform\n",
      "WARNING: Use --illegal-access=warn to enable warnings of further illegal reflective access operations\n",
      "WARNING: All illegal access operations will be denied in a future release\n",
      "Setting default log level to \"WARN\".\n",
      "To adjust logging level use sc.setLogLevel(newLevel). For SparkR, use setLogLevel(newLevel).\n"
     ]
    },
    {
     "data": {
      "text/html": [
       "\n",
       "            <div>\n",
       "                <p><b>SparkSession - hive</b></p>\n",
       "                \n",
       "        <div>\n",
       "            <p><b>SparkContext</b></p>\n",
       "\n",
       "            <p><a href=\"http://myjupyter:4040\">Spark UI</a></p>\n",
       "\n",
       "            <dl>\n",
       "              <dt>Version</dt>\n",
       "                <dd><code>v3.2.0</code></dd>\n",
       "              <dt>Master</dt>\n",
       "                <dd><code>local[1]</code></dd>\n",
       "              <dt>AppName</dt>\n",
       "                <dd><code>GettingStartedWithSpark</code></dd>\n",
       "            </dl>\n",
       "        </div>\n",
       "        \n",
       "            </div>\n",
       "        "
      ],
      "text/plain": [
       "<pyspark.sql.session.SparkSession at 0x7f7d903214e0>"
      ]
     },
     "execution_count": 4,
     "metadata": {},
     "output_type": "execute_result"
    }
   ],
   "source": [
    "# Create SparkSession from builder\n",
    "from pyspark.sql import SparkSession\n",
    "\n",
    "# Create a SparkSession and set the extraClassPath configuration\n",
    "spark = SparkSession.builder.master(\"local[1]\") \\\n",
    "    .appName(\"GettingStartedWithSpark\") \\\n",
    "    .config(\"spark.driver.extraClassPath\", \"/home/jovyan/work/jars/*\") \\\n",
    "    .getOrCreate()\n",
    "\n",
    "# Details of the Spark Session\n",
    "spark"
   ]
  },
  {
   "cell_type": "code",
   "execution_count": null,
   "id": "33464bf6-768c-4619-beb6-34076e69d47b",
   "metadata": {},
   "outputs": [],
   "source": []
  },
  {
   "cell_type": "markdown",
   "id": "dfb105f3-53ee-466b-9b6c-239e4b95a65b",
   "metadata": {},
   "source": [
    "# Basic File Reading and Custom Parsing."
   ]
  },
  {
   "cell_type": "markdown",
   "id": "e7fd45f7-e20a-49ae-9d06-7acb80728052",
   "metadata": {},
   "source": [
    "## Read & Analyse\n",
    "\n",
    "- This next paragraph shows the most basic of Spark methods for file based reading. The zero-bells attached `spark.read.text.` \n",
    "- This is useful technique if you are working data for the first time and don’t know how to parse it, or maybe are having issues using other methods for automatic parsing."
   ]
  },
  {
   "cell_type": "code",
   "execution_count": 5,
   "id": "d73f8e37-bbe4-4764-809e-2d65eda74d47",
   "metadata": {
    "tags": []
   },
   "outputs": [
    {
     "name": "stdout",
     "output_type": "stream",
     "text": [
      "root\n",
      " |-- value: string (nullable = true)\n",
      "\n"
     ]
    }
   ],
   "source": [
    "## // parse the raw coffee file. this is a simple csv file without headers. \n",
    "# The goal is to build core skills: parsing, exploring data\n",
    "\n",
    "# Read the text file into a DataFrame\n",
    "df = spark.read.text(\"/home/jovyan/work/data/raw-coffee.csv\")\n",
    "\n",
    "# Print the schema of the DataFrame\n",
    "df.printSchema()"
   ]
  },
  {
   "cell_type": "markdown",
   "id": "4d536ecf-31ed-4515-85ba-b63c36aa9cfa",
   "metadata": {},
   "source": [
    "## Exercise: Basic File Reading and Custom Parsing"
   ]
  },
  {
   "cell_type": "code",
   "execution_count": 6,
   "id": "696e65db-b6b7-4afa-b33c-6e2d7159b860",
   "metadata": {
    "tags": []
   },
   "outputs": [
    {
     "name": "stdout",
     "output_type": "stream",
     "text": [
      "+--------------+\n",
      "|         value|\n",
      "+--------------+\n",
      "|    name,roast|\n",
      "|   folgers, 10|\n",
      "|     yuban, 10|\n",
      "| nespresso, 10|\n",
      "|     ritual, 4|\n",
      "|four barrel, 5|\n",
      "+--------------+\n",
      "\n"
     ]
    }
   ],
   "source": [
    "df.show()"
   ]
  },
  {
   "cell_type": "markdown",
   "id": "48d68784-f172-4b44-b0c3-2d0049f50dc9",
   "metadata": {},
   "source": [
    "- The code reads in a DataFrame, and imports two functions split and col from the PySpark sql.functions module.\n",
    "- The split function takes a string column as input and splits it into an array of substrings using a specified delimiter. In this case, it is splitting the value column on a comma ,.\n",
    "- The resulting split_col column is then selected with the `select()` method and renamed to name and roast using selectExpr().\n",
    "- Additionally, `CAST()`  is used to convert the roast column to an integer datatype.\n",
    "- Any null values are replaced with \"unknown\" for the name column and 0 for the roast column using the `na.fill()` method.\n",
    "- The final schema of the resulting DataFrame is printed using the `printSchema()` method."
   ]
  },
  {
   "cell_type": "code",
   "execution_count": 7,
   "id": "6100f148-230b-43b4-b46f-e2014bc2023a",
   "metadata": {},
   "outputs": [
    {
     "name": "stdout",
     "output_type": "stream",
     "text": [
      "root\n",
      " |-- name: string (nullable = false)\n",
      " |-- roast: integer (nullable = false)\n",
      "\n"
     ]
    }
   ],
   "source": [
    "from pyspark.sql.functions import split, col\n",
    "\n",
    "converted = df.select(split(col(\"value\"), \",\").alias(\"split_col\")) \\\n",
    "       .selectExpr(\"split_col[0] as name\", \"CAST(split_col[1] as INT) as roast\") \\\n",
    "       .na.fill({'name': 'unknown', 'roast': 0})\n",
    "       \n",
    "converted.printSchema()"
   ]
  },
  {
   "cell_type": "code",
   "execution_count": 8,
   "id": "2a47e713-8c30-4132-8948-9e768cf2b284",
   "metadata": {},
   "outputs": [
    {
     "name": "stdout",
     "output_type": "stream",
     "text": [
      "+-----------+-----+\n",
      "|       name|roast|\n",
      "+-----------+-----+\n",
      "|       name|    0|\n",
      "|    folgers|   10|\n",
      "|      yuban|   10|\n",
      "|  nespresso|   10|\n",
      "|     ritual|    4|\n",
      "|four barrel|    5|\n",
      "+-----------+-----+\n",
      "\n"
     ]
    }
   ],
   "source": [
    "converted.show()"
   ]
  },
  {
   "cell_type": "code",
   "execution_count": 9,
   "id": "4e3e91de-2694-40c2-bb07-5204ef31c461",
   "metadata": {
    "tags": []
   },
   "outputs": [],
   "source": [
    "import pandas as pd"
   ]
  },
  {
   "cell_type": "code",
   "execution_count": null,
   "id": "e5418014-ca6b-4cd5-9059-ee6597c5fc4d",
   "metadata": {},
   "outputs": [],
   "source": []
  }
 ],
 "metadata": {
  "kernelspec": {
   "display_name": "Python 3 (ipykernel)",
   "language": "python",
   "name": "python3"
  },
  "language_info": {
   "codemirror_mode": {
    "name": "ipython",
    "version": 3
   },
   "file_extension": ".py",
   "mimetype": "text/x-python",
   "name": "python",
   "nbconvert_exporter": "python",
   "pygments_lexer": "ipython3",
   "version": "3.10.9"
  }
 },
 "nbformat": 4,
 "nbformat_minor": 5
}
