{
 "cells": [
  {
   "cell_type": "markdown",
   "id": "c60677a2-6296-4de3-97a2-4c17f69942ec",
   "metadata": {},
   "source": [
    "### FirstSparkETL"
   ]
  },
  {
   "cell_type": "code",
   "execution_count": 1,
   "id": "20395f39-fd54-47bb-8bbc-d197d3044cbf",
   "metadata": {
    "tags": []
   },
   "outputs": [
    {
     "name": "stderr",
     "output_type": "stream",
     "text": [
      "WARNING: An illegal reflective access operation has occurred\n",
      "WARNING: Illegal reflective access by org.apache.spark.unsafe.Platform (file:/usr/local/spark-3.2.0-bin-hadoop3.2/jars/spark-unsafe_2.12-3.2.0.jar) to constructor java.nio.DirectByteBuffer(long,int)\n",
      "WARNING: Please consider reporting this to the maintainers of org.apache.spark.unsafe.Platform\n",
      "WARNING: Use --illegal-access=warn to enable warnings of further illegal reflective access operations\n",
      "WARNING: All illegal access operations will be denied in a future release\n",
      "Setting default log level to \"WARN\".\n",
      "To adjust logging level use sc.setLogLevel(newLevel). For SparkR, use setLogLevel(newLevel).\n",
      "                                                                                \r"
     ]
    }
   ],
   "source": [
    "# Import required modules\n",
    "from pyspark.sql import SparkSession\n",
    "from datetime import datetime\n",
    "from pyspark.sql import functions as f\n",
    "from pyspark.sql.types import *\n",
    "# Delta is a storage layer for data lakes\n",
    "from delta.tables import * \n",
    "# DeltaTable is the main class for Delta tables\n",
    "from delta.tables import DeltaTable \n",
    "\n",
    "# Initialize SparkSession\n",
    "# Create a SparkSession and set the extraClassPath configuration\n",
    "spark = SparkSession.builder.master(\"local[1]\") \\\n",
    "    .appName(\"LetSparkWorkForYou\") \\\n",
    "    .config(\"spark.driver.extraClassPath\", \"/home/jovyan/work/jars/*\") \\\n",
    "    .getOrCreate()\n",
    "\n",
    "\n",
    "# Define the schema\n",
    "custom_schema = StructType([\n",
    "    StructField(\"name\", StringType(), True),\n",
    "    StructField(\"roast\", DoubleType(), True)\n",
    "])\n",
    "\n",
    "# Define the updated timestamp\n",
    "UPDATED = datetime.today().replace(second=0)\n",
    "\n",
    "# Initialize SparkSession\n",
    "spark = SparkSession.builder.appName(\"coffeeETL\").getOrCreate()\n",
    "\n",
    "# Read the data with the specified schema and create a DataFrame\n",
    "df = spark.read.format(\"csv\") \\\n",
    "    .option(\"header\", True) \\\n",
    "    .schema(custom_schema) \\\n",
    "    .load(\"/home/jovyan/work/data/raw-coffee.csv\")\n",
    "\n",
    "# Extract relevant columns and create a new DataFrame\n",
    "new_df = df.select(\"name\", \"roast\")\n",
    "\n",
    "# Transform the data by adding a new column with current timestamp\n",
    "transformed_df = new_df.withColumn('updated_at', f.lit(UPDATED))\n",
    "\n",
    "# Create a new directory with timestamp suffix\n",
    "timestamp = datetime.now().strftime(\"%Y%m%d\")\n",
    "\n",
    "\n",
    "output_dir = f\"/home/jovyan/work/notebooks/cur_{timestamp}\"\n",
    "\n",
    "# Write the transformed data to a CSV file\n",
    "transformed_df.write.option(\"header\",\"true\").csv(output_dir)\n",
    "\n",
    "##########################################\n",
    "# Stop the SparkSession\n",
    "spark.stop()\n",
    "##########################################"
   ]
  },
  {
   "cell_type": "code",
   "execution_count": null,
   "id": "ac7a125c-119b-4351-92b7-d16a5fa56a81",
   "metadata": {},
   "outputs": [],
   "source": []
  },
  {
   "cell_type": "code",
   "execution_count": null,
   "id": "a7efd322-d735-4261-a243-18b1a25d97b8",
   "metadata": {},
   "outputs": [],
   "source": []
  },
  {
   "cell_type": "code",
   "execution_count": null,
   "id": "4174a70d-a3fb-4717-af38-6d7eda2c491e",
   "metadata": {},
   "outputs": [],
   "source": []
  }
 ],
 "metadata": {
  "kernelspec": {
   "display_name": "Python 3 (ipykernel)",
   "language": "python",
   "name": "python3"
  },
  "language_info": {
   "codemirror_mode": {
    "name": "ipython",
    "version": 3
   },
   "file_extension": ".py",
   "mimetype": "text/x-python",
   "name": "python",
   "nbconvert_exporter": "python",
   "pygments_lexer": "ipython3",
   "version": "3.10.9"
  }
 },
 "nbformat": 4,
 "nbformat_minor": 5
}
