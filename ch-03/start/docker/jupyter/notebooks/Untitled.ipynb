{
 "cells": [
  {
   "cell_type": "markdown",
   "id": "74d0bdfa-f6f5-4b53-b0ed-1f25f3226a55",
   "metadata": {},
   "source": [
    "# Introduction to Spark on JupyterNotebook"
   ]
  },
  {
   "cell_type": "code",
   "execution_count": 1,
   "id": "644d4615-a76f-4f99-9252-0fce1b5e22ef",
   "metadata": {},
   "outputs": [],
   "source": [
    "# PySpark is the main library for Spark\n",
    "import pyspark \n",
    "# SparkContext is the entry point for Spark functionality\n",
    "from pyspark import SparkContext \n",
    "# SparkSession is the entry point for DataFrame and SQL functionality\n",
    "from pyspark.sql import SparkSession \n",
    "\n",
    "# SQLContext is the entry point for SparkSQL functionality, providing a way to interact with structured data using SQL queries, as well as integrating with various data sources and data formats. \n",
    "#It is required to create Spark DataFrames, which are the primary data structure for working with structured data in PySpark.\n",
    "from pyspark import SQLContext"
   ]
  },
  {
   "cell_type": "code",
   "execution_count": 2,
   "id": "91dbc090-3076-4f64-9f48-506756ee4379",
   "metadata": {},
   "outputs": [
    {
     "ename": "ModuleNotFoundError",
     "evalue": "No module named 'delta'",
     "output_type": "error",
     "traceback": [
      "\u001b[0;31m---------------------------------------------------------------------------\u001b[0m",
      "\u001b[0;31mModuleNotFoundError\u001b[0m                       Traceback (most recent call last)",
      "Input \u001b[0;32mIn [2]\u001b[0m, in \u001b[0;36m<module>\u001b[0;34m\u001b[0m\n\u001b[1;32m      2\u001b[0m \u001b[38;5;28;01mimport\u001b[39;00m \u001b[38;5;21;01mos\u001b[39;00m \n\u001b[1;32m      3\u001b[0m \u001b[38;5;66;03m# Delta is a storage layer for data lakes\u001b[39;00m\n\u001b[0;32m----> 4\u001b[0m \u001b[38;5;28;01mfrom\u001b[39;00m \u001b[38;5;21;01mdelta\u001b[39;00m\u001b[38;5;21;01m.\u001b[39;00m\u001b[38;5;21;01mtables\u001b[39;00m \u001b[38;5;28;01mimport\u001b[39;00m \u001b[38;5;241m*\u001b[39m \n\u001b[1;32m      5\u001b[0m \u001b[38;5;66;03m# DeltaTable is the main class for Delta tables\u001b[39;00m\n\u001b[1;32m      6\u001b[0m \u001b[38;5;28;01mfrom\u001b[39;00m \u001b[38;5;21;01mdelta\u001b[39;00m\u001b[38;5;21;01m.\u001b[39;00m\u001b[38;5;21;01mtables\u001b[39;00m \u001b[38;5;28;01mimport\u001b[39;00m DeltaTable \n",
      "\u001b[0;31mModuleNotFoundError\u001b[0m: No module named 'delta'"
     ]
    }
   ],
   "source": [
    "# Provides a way of using operating system dependent functionality\n",
    "import os \n",
    "# Delta is a storage layer for data lakes\n",
    "from delta.tables import * \n",
    "# DeltaTable is the main class for Delta tables\n",
    "from delta.tables import DeltaTable \n",
    "# Provides cryptographic hashing functions\n",
    "import hashlib \n",
    " # Provides classes for working with dates and times\n",
    "import datetime\n",
    "# Provides functions for working with URLs\n",
    "import urllib.request \n",
    "# Provides functions for working with JSON data\n",
    "import json \n",
    " # Import timedelta and date classes from datetime module\n",
    "from datetime import timedelta, date\n",
    "# Provides functions for working with iterables\n",
    "from itertools import islice \n",
    "# Provides access to some variables used or maintained by the interpreter and to functions that interact strongly with the interpreter.\n",
    "import sys "
   ]
  },
  {
   "cell_type": "code",
   "execution_count": null,
   "id": "2713f4f9-a2be-4312-931c-1b74a2aaeda1",
   "metadata": {},
   "outputs": [],
   "source": []
  }
 ],
 "metadata": {
  "kernelspec": {
   "display_name": "Python 3 (ipykernel)",
   "language": "python",
   "name": "python3"
  },
  "language_info": {
   "codemirror_mode": {
    "name": "ipython",
    "version": 3
   },
   "file_extension": ".py",
   "mimetype": "text/x-python",
   "name": "python",
   "nbconvert_exporter": "python",
   "pygments_lexer": "ipython3",
   "version": "3.9.7"
  }
 },
 "nbformat": 4,
 "nbformat_minor": 5
}
