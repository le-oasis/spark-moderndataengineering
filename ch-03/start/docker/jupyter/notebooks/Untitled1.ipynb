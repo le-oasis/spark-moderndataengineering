{
 "cells": [
  {
   "cell_type": "code",
   "execution_count": 2,
   "id": "9d5e1b0d-407b-41ae-8d17-a0a10e730458",
   "metadata": {
    "tags": []
   },
   "outputs": [
    {
     "name": "stdout",
     "output_type": "stream",
     "text": [
      "root\n",
      " |-- id: string (nullable = true)\n",
      " |-- created: timestamp (nullable = true)\n",
      " |-- updated: timestamp (nullable = true)\n",
      " |-- first_name: string (nullable = true)\n",
      " |-- last_name: string (nullable = true)\n",
      " |-- email: string (nullable = true)\n",
      "\n"
     ]
    },
    {
     "name": "stderr",
     "output_type": "stream",
     "text": [
      "[Stage 0:>                                                          (0 + 1) / 1]\r"
     ]
    },
    {
     "name": "stdout",
     "output_type": "stream",
     "text": [
      "+---+-------------------+-------------------+----------+---------+--------------------+\n",
      "| id|            created|            updated|first_name|last_name|               email|\n",
      "+---+-------------------+-------------------+----------+---------+--------------------+\n",
      "|  1|2023-02-22 02:07:05|2023-02-22 02:07:05|     Scott|   Haines|  scott@coffeeco.com|\n",
      "|  2|2023-02-22 02:07:05|2023-02-22 02:07:05|      John|     Hamm|  john.hamm@acme.com|\n",
      "|  3|2023-02-22 02:07:05|2023-02-22 02:07:05|      Milo|   Haines|mhaines@coffeeco.com|\n",
      "+---+-------------------+-------------------+----------+---------+--------------------+\n",
      "\n"
     ]
    },
    {
     "name": "stderr",
     "output_type": "stream",
     "text": [
      "                                                                                \r"
     ]
    }
   ],
   "source": [
    "import os\n",
    "# Import required modules\n",
    "from pyspark.sql import SparkSession\n",
    "from datetime import datetime\n",
    "from pyspark.sql.functions import col\n",
    "from pyspark.sql import functions as f\n",
    "from pyspark.sql import *\n",
    "from pyspark.sql.types import *\n",
    "# Delta is a storage layer for data lakes\n",
    "from delta.tables import * \n",
    "# DeltaTable is the main class for Delta tables\n",
    "from delta.tables import DeltaTable \n",
    "\n",
    "# create SparkSession\n",
    "# Create a SparkSession and set the extraClassPath configuration\n",
    "spark = SparkSession.builder.master(\"local[1]\") \\\n",
    "    .appName(\"BridgeMySQL\") \\\n",
    "    .config(\"spark.driver.extraClassPath\", \"/home/jovyan/work/jars/*\") \\\n",
    "    .getOrCreate()\n",
    "spark.sparkContext.setLogLevel(\"ERROR\")\n",
    "\n",
    "\n",
    "\n",
    "# retrieve database login details from environment variables\n",
    "jdbcDriver = spark.conf.get(\"spark.jdbc.driver.class\", \"org.mariadb.jdbc.Driver\")\n",
    "dbHost = spark.conf.get(\"spark.jdbc.host\",\"mysql\")\n",
    "dbPort = spark.conf.get(\"spark.jdbc.port\", \"3306\")\n",
    "defaultDb = spark.conf.get(\"spark.jdbc.default.db\", \"default\")\n",
    "dbTable = spark.conf.get(\"spark.jdbc.table\", \"customers\")\n",
    "dbUser = spark.conf.get(\"spark.jdbc.user\", \"dataeng\")\n",
    "dbPass = spark.conf.get(\"spark.jdbc.password\", \"dataengineering_user\")\n",
    "\n",
    "# create jdbc url\n",
    "connection_url = f'jdbc:mysql://{dbHost}:{dbPort}/{defaultDb}'\n",
    "\n",
    "# read data from mysql\n",
    "customers_sdf = spark.read \\\n",
    "    .format(\"jdbc\") \\\n",
    "    .option(\"url\", connection_url) \\\n",
    "    .option(\"driver\", jdbcDriver) \\\n",
    "    .option(\"dbtable\", dbTable) \\\n",
    "    .option(\"user\", dbUser) \\\n",
    "    .option(\"password\", dbPass) \\\n",
    "    .load()\n",
    "\n",
    "customers_sdf.printSchema()\n",
    "customers_sdf.createOrReplaceTempView(\"customers\")\n",
    "\n",
    "# show data\n",
    "customers_sdf.show()"
   ]
  },
  {
   "cell_type": "code",
   "execution_count": null,
   "id": "e399bf91-72f2-47ef-a07f-bb48a324c494",
   "metadata": {},
   "outputs": [],
   "source": []
  },
  {
   "cell_type": "code",
   "execution_count": 5,
   "id": "c7f53881-8957-46df-bcff-01a6c79ccfb7",
   "metadata": {
    "tags": []
   },
   "outputs": [
    {
     "name": "stderr",
     "output_type": "stream",
     "text": [
      "[Stage 1:=============================>                             (1 + 1) / 2]\r"
     ]
    },
    {
     "name": "stdout",
     "output_type": "stream",
     "text": [
      "+---+-------------------+-------------------+----------+---------+--------------------+\n",
      "| id|            created|            updated|first_name|last_name|               email|\n",
      "+---+-------------------+-------------------+----------+---------+--------------------+\n",
      "|  1|2023-02-22 02:07:05|2023-02-22 02:07:05|     Scott|   Haines|  scott@coffeeco.com|\n",
      "|  2|2023-02-22 02:07:05|2023-02-22 02:07:05|      John|     Hamm|  john.hamm@acme.com|\n",
      "|  3|2023-02-22 02:07:05|2023-02-22 02:07:05|      Milo|   Haines|mhaines@coffeeco.com|\n",
      "|  4|2023-02-22 02:46:00|2023-02-21 02:49:00|     Penny|   Haines|  penny@coffeeco.com|\n",
      "|  5|2023-02-22 02:47:00|2023-02-21 02:50:00|     Cloud|     Fast| cloud.fast@acme.com|\n",
      "|  6|2023-02-22 02:48:00|2023-02-21 02:51:00|   Marshal|   Haines|   paws@coffeeco.com|\n",
      "+---+-------------------+-------------------+----------+---------+--------------------+\n",
      "\n"
     ]
    },
    {
     "name": "stderr",
     "output_type": "stream",
     "text": [
      "                                                                                \r"
     ]
    }
   ],
   "source": [
    "schema = StructType([\n",
    "    StructField(\"id\", StringType(), True),\n",
    "    StructField(\"created_at\", TimestampType(), True),\n",
    "    StructField(\"updated_at\", TimestampType(), True),\n",
    "    StructField(\"first_name\", StringType(), True),\n",
    "    StructField(\"last_name\", StringType(), True),\n",
    "    StructField(\"email\", StringType(), True)\n",
    "])\n",
    "\n",
    "# create some new customers\n",
    "records = [\n",
    "    ('4', '2023-02-22 02:46:00', '2023-02-21 02:49:00', 'Penny', 'Haines', 'penny@coffeeco.com'),\n",
    "    ('5', '2023-02-22 02:47:00', '2023-02-21 02:50:00', 'Cloud', 'Fast', 'cloud.fast@acme.com'),\n",
    "    ('6', '2023-02-22 02:48:00', '2023-02-21 02:51:00', 'Marshal', 'Haines', 'paws@coffeeco.com')\n",
    "]\n",
    "\n",
    "# convert string values to timestamp type\n",
    "records = [(r[0], \n",
    "            datetime.strptime(r[1], '%Y-%m-%d %H:%M:%S'), \n",
    "            datetime.strptime(r[2], '%Y-%m-%d %H:%M:%S'),\n",
    "            r[3], r[4], r[5]) for r in records]\n",
    "\n",
    "new_customers_sdf = spark.createDataFrame(records, schema=schema)\n",
    "\n",
    "new_customers_sdf.createOrReplaceTempView(\"new_customers\")\n",
    "\n",
    "# Join existing and new customers by ID and union them\n",
    "# combine the two DataFrames and remove duplicates\n",
    "all_customers = customers_sdf.union(new_customers_sdf).dropDuplicates(['id'])\n",
    "\n",
    "# Execute the SparkSQL query \n",
    "# query = \"\"\"\n",
    "# SELECT DISTINCT *\n",
    "# FROM (\n",
    "#   SELECT *\n",
    "#   FROM customers\n",
    "#   UNION ALL\n",
    "#   SELECT *\n",
    "#   FROM new_customers\n",
    "# ) t\n",
    "# WHERE t.id IS NOT NULL\n",
    "# ORDER BY id asc\n",
    "# \"\"\"\n",
    "\n",
    "# # Perfom Join Operation\n",
    "# all_customers = spark.sql(query)\n",
    "\n",
    "all_customers.show()"
   ]
  },
  {
   "cell_type": "code",
   "execution_count": 6,
   "id": "8f8b0641-8d66-4879-86ac-13a056b201de",
   "metadata": {},
   "outputs": [
    {
     "name": "stdout",
     "output_type": "stream",
     "text": [
      "+---+-------------------+-------------------+----------+---------+-------------------+\n",
      "| id|            created|            updated|first_name|last_name|              email|\n",
      "+---+-------------------+-------------------+----------+---------+-------------------+\n",
      "|  4|2023-02-22 02:46:00|2023-02-21 02:49:00|     Penny|   Haines| penny@coffeeco.com|\n",
      "|  5|2023-02-22 02:47:00|2023-02-21 02:50:00|     Cloud|     Fast|cloud.fast@acme.com|\n",
      "|  6|2023-02-22 02:48:00|2023-02-21 02:51:00|   Marshal|   Haines|  paws@coffeeco.com|\n",
      "+---+-------------------+-------------------+----------+---------+-------------------+\n",
      "\n"
     ]
    }
   ],
   "source": [
    "# write data back to mysql\n",
    "all_customers.write \\\n",
    "    .format(\"jdbc\") \\\n",
    "    .option(\"url\", connection_url) \\\n",
    "    .option(\"driver\", \"org.mariadb.jdbc.Driver\") \\\n",
    "    .option(\"dbtable\", dbTable) \\\n",
    "    .option(\"user\", dbUser) \\\n",
    "    .option(\"password\", dbPass) \\\n",
    "    .mode(\"append\") \\\n",
    "    .save()\n",
    "    \n",
    "# show data\n",
    "all_customers.show()"
   ]
  },
  {
   "cell_type": "code",
   "execution_count": null,
   "id": "538e89e8-8872-4ed0-b74e-74389aecf66a",
   "metadata": {},
   "outputs": [],
   "source": []
  }
 ],
 "metadata": {
  "kernelspec": {
   "display_name": "Python 3 (ipykernel)",
   "language": "python",
   "name": "python3"
  },
  "language_info": {
   "codemirror_mode": {
    "name": "ipython",
    "version": 3
   },
   "file_extension": ".py",
   "mimetype": "text/x-python",
   "name": "python",
   "nbconvert_exporter": "python",
   "pygments_lexer": "ipython3",
   "version": "3.10.9"
  }
 },
 "nbformat": 4,
 "nbformat_minor": 5
}
