{
 "cells": [
  {
   "cell_type": "code",
   "execution_count": 1,
   "id": "9d5e1b0d-407b-41ae-8d17-a0a10e730458",
   "metadata": {
    "tags": []
   },
   "outputs": [
    {
     "name": "stderr",
     "output_type": "stream",
     "text": [
      "WARNING: An illegal reflective access operation has occurred\n",
      "WARNING: Illegal reflective access by org.apache.spark.unsafe.Platform (file:/usr/local/spark-3.2.0-bin-hadoop3.2/jars/spark-unsafe_2.12-3.2.0.jar) to constructor java.nio.DirectByteBuffer(long,int)\n",
      "WARNING: Please consider reporting this to the maintainers of org.apache.spark.unsafe.Platform\n",
      "WARNING: Use --illegal-access=warn to enable warnings of further illegal reflective access operations\n",
      "WARNING: All illegal access operations will be denied in a future release\n",
      "Setting default log level to \"WARN\".\n",
      "To adjust logging level use sc.setLogLevel(newLevel). For SparkR, use setLogLevel(newLevel).\n"
     ]
    },
    {
     "name": "stdout",
     "output_type": "stream",
     "text": [
      "root\n",
      " |-- id: integer (nullable = true)\n",
      " |-- created: timestamp (nullable = true)\n",
      " |-- updated: timestamp (nullable = true)\n",
      " |-- first_name: string (nullable = true)\n",
      " |-- last_name: string (nullable = true)\n",
      " |-- email: string (nullable = true)\n",
      "\n"
     ]
    },
    {
     "name": "stderr",
     "output_type": "stream",
     "text": [
      "                                                                                \r"
     ]
    },
    {
     "name": "stdout",
     "output_type": "stream",
     "text": [
      "+---+-------------------+-------------------+----------+---------+--------------------+\n",
      "| id|            created|            updated|first_name|last_name|               email|\n",
      "+---+-------------------+-------------------+----------+---------+--------------------+\n",
      "|  1|2021-02-16 00:16:06|2023-03-06 09:25:20|     Scott|   Haines|  scott@coffeeco.com|\n",
      "|  2|2021-02-16 00:16:06|2023-03-06 09:25:20|      John|     Hamm|  john.hamm@acme.com|\n",
      "|  3|2021-02-16 00:16:06|2023-03-06 09:25:20|      Milo|   Haines|mhaines@coffeeco.com|\n",
      "|  4|2021-02-21 21:00:00|2023-03-06 09:25:20|     Penny|   Haines|  penny@coffeeco.com|\n",
      "|  5|2021-02-21 22:00:00|2023-03-06 09:25:20|     Cloud|     Fast| cloud.fast@acme.com|\n",
      "|  6|2021-02-21 23:00:00|2023-03-06 09:25:20|   Marshal|   Haines|   paws@coffeeco.com|\n",
      "|  7|2021-02-24 09:00:00|2023-03-06 09:25:20|    Willow|   Haines| willow@coffeeco.com|\n",
      "|  8|2021-02-24 09:00:00|2023-03-06 09:25:20|    Clover|   Haines|    pup@coffeeco.com|\n",
      "+---+-------------------+-------------------+----------+---------+--------------------+\n",
      "\n"
     ]
    }
   ],
   "source": [
    "import os\n",
    "# Import required modules\n",
    "from pyspark.sql import SparkSession\n",
    "from datetime import datetime\n",
    "from pyspark.sql.functions import col\n",
    "from pyspark.sql import functions as f\n",
    "from pyspark.sql import *\n",
    "from pyspark.sql.types import *\n",
    "# Delta is a storage layer for data lakes\n",
    "from delta.tables import * \n",
    "# DeltaTable is the main class for Delta tables\n",
    "from delta.tables import DeltaTable \n",
    "\n",
    "# create SparkSession\n",
    "# Create a SparkSession and set the extraClassPath configuration\n",
    "spark = SparkSession.builder.master(\"local[1]\") \\\n",
    "    .appName(\"BridgeMySQL\") \\\n",
    "    .config(\"spark.driver.extraClassPath\", \"/home/jovyan/work/jars/*\") \\\n",
    "    .getOrCreate()\n",
    "spark.sparkContext.setLogLevel(\"ERROR\")\n",
    "\n",
    "\n",
    "\n",
    "# retrieve database login details from environment variables\n",
    "jdbcDriver = spark.conf.get(\"spark.jdbc.driver.class\", \"org.mariadb.jdbc.Driver\")\n",
    "dbHost = spark.conf.get(\"spark.jdbc.host\",\"mysql\")\n",
    "dbPort = spark.conf.get(\"spark.jdbc.port\", \"3306\")\n",
    "defaultDb = spark.conf.get(\"spark.jdbc.default.db\", \"default\")\n",
    "dbTable = spark.conf.get(\"spark.jdbc.table\", \"bettercustomers\")\n",
    "dbUser = spark.conf.get(\"spark.jdbc.user\", \"dataeng\")\n",
    "dbPass = spark.conf.get(\"spark.jdbc.password\", \"dataengineering_user\")\n",
    "\n",
    "# create jdbc url\n",
    "connection_url = f'jdbc:mysql://{dbHost}:{dbPort}/{defaultDb}'\n",
    "\n",
    "# read data from mysql\n",
    "customers_sdf = spark.read \\\n",
    "    .format(\"jdbc\") \\\n",
    "    .option(\"url\", connection_url) \\\n",
    "    .option(\"driver\", jdbcDriver) \\\n",
    "    .option(\"dbtable\", dbTable) \\\n",
    "    .option(\"user\", dbUser) \\\n",
    "    .option(\"password\", dbPass) \\\n",
    "    .load()\n",
    "\n",
    "customers_sdf.printSchema()\n",
    "customers_sdf.createOrReplaceTempView(\"customers\")\n",
    "\n",
    "# show data\n",
    "customers_sdf.show()"
   ]
  },
  {
   "cell_type": "code",
   "execution_count": null,
   "id": "e399bf91-72f2-47ef-a07f-bb48a324c494",
   "metadata": {},
   "outputs": [],
   "source": []
  },
  {
   "cell_type": "code",
   "execution_count": null,
   "id": "538e89e8-8872-4ed0-b74e-74389aecf66a",
   "metadata": {},
   "outputs": [],
   "source": []
  },
  {
   "cell_type": "markdown",
   "id": "1ba59d58-4808-48cf-a9a6-aa975ad8b433",
   "metadata": {},
   "source": [
    "### Query The View"
   ]
  },
  {
   "cell_type": "code",
   "execution_count": 3,
   "id": "f49866bd-f438-40de-b446-c2ac15295ee8",
   "metadata": {
    "tags": []
   },
   "outputs": [
    {
     "name": "stdout",
     "output_type": "stream",
     "text": [
      "+---+-------------------+-------------------+----------+---------+--------------------+\n",
      "| id|            created|            updated|first_name|last_name|               email|\n",
      "+---+-------------------+-------------------+----------+---------+--------------------+\n",
      "|  1|2021-02-16 00:16:06|2023-03-06 09:25:20|     Scott|   Haines|  scott@coffeeco.com|\n",
      "|  2|2021-02-16 00:16:06|2023-03-06 09:25:20|      John|     Hamm|  john.hamm@acme.com|\n",
      "|  3|2021-02-16 00:16:06|2023-03-06 09:25:20|      Milo|   Haines|mhaines@coffeeco.com|\n",
      "|  4|2021-02-21 21:00:00|2023-03-06 09:25:20|     Penny|   Haines|  penny@coffeeco.com|\n",
      "|  5|2021-02-21 22:00:00|2023-03-06 09:25:20|     Cloud|     Fast| cloud.fast@acme.com|\n",
      "|  6|2021-02-21 23:00:00|2023-03-06 09:25:20|   Marshal|   Haines|   paws@coffeeco.com|\n",
      "|  7|2021-02-24 09:00:00|2023-03-06 09:25:20|    Willow|   Haines| willow@coffeeco.com|\n",
      "|  8|2021-02-24 09:00:00|2023-03-06 09:25:20|    Clover|   Haines|    pup@coffeeco.com|\n",
      "+---+-------------------+-------------------+----------+---------+--------------------+\n",
      "\n"
     ]
    }
   ],
   "source": [
    "# Query the view\n",
    "customers_sql = spark.sql(\"SELECT * FROM customers\")\n",
    "customers_sql.show()"
   ]
  },
  {
   "cell_type": "code",
   "execution_count": 6,
   "id": "c2941a10-8c44-41b1-ab82-bf5f1f5a01a3",
   "metadata": {
    "tags": []
   },
   "outputs": [
    {
     "name": "stdout",
     "output_type": "stream",
     "text": [
      "+---+-------------------+-------------------+----------+---------+-------------------+\n",
      "| id|            created|            updated|first_name|last_name|              email|\n",
      "+---+-------------------+-------------------+----------+---------+-------------------+\n",
      "|  1|2021-02-16 00:16:06|2023-03-06 09:25:20|     Scott|   Haines| scott@coffeeco.com|\n",
      "|  5|2021-02-21 22:00:00|2023-03-06 09:25:20|     Cloud|     Fast|cloud.fast@acme.com|\n",
      "|  8|2021-02-24 09:00:00|2023-03-06 09:25:20|    Clover|   Haines|   pup@coffeeco.com|\n",
      "+---+-------------------+-------------------+----------+---------+-------------------+\n",
      "\n"
     ]
    }
   ],
   "source": [
    "customers_sql = spark.sql(\"SELECT * FROM customers WHERE first_name LIKE '%c%';\")\n",
    "customers_sql.show()"
   ]
  },
  {
   "cell_type": "code",
   "execution_count": null,
   "id": "e3c9e293-5f06-4477-8017-480d3977179e",
   "metadata": {},
   "outputs": [],
   "source": []
  },
  {
   "cell_type": "code",
   "execution_count": 7,
   "id": "f2530d54-f4c4-4503-bd7b-b1422cee9c29",
   "metadata": {
    "tags": []
   },
   "outputs": [
    {
     "name": "stdout",
     "output_type": "stream",
     "text": [
      "+---+-------------------+-------------------+----------+---------+--------------------+\n",
      "| id|            created|            updated|first_name|last_name|               email|\n",
      "+---+-------------------+-------------------+----------+---------+--------------------+\n",
      "|  1|2021-02-16 00:16:06|2023-03-06 09:25:20|     Scott|   Haines|  scott@coffeeco.com|\n",
      "|  2|2021-02-16 00:16:06|2023-03-06 09:25:20|      John|     Hamm|  john.hamm@acme.com|\n",
      "|  3|2021-02-16 00:16:06|2023-03-06 09:25:20|      Milo|   Haines|mhaines@coffeeco.com|\n",
      "|  4|2021-02-21 21:00:00|2023-03-06 09:25:20|     Penny|   Haines|  penny@coffeeco.com|\n",
      "|  5|2021-02-21 22:00:00|2023-03-06 09:25:20|     Cloud|     Fast| cloud.fast@acme.com|\n",
      "|  6|2021-02-21 23:00:00|2023-03-06 09:25:20|   Marshal|   Haines|   paws@coffeeco.com|\n",
      "|  7|2021-02-24 09:00:00|2023-03-06 09:25:20|    Willow|   Haines| willow@coffeeco.com|\n",
      "|  8|2021-02-24 09:00:00|2023-03-06 09:25:20|    Clover|   Haines|    pup@coffeeco.com|\n",
      "+---+-------------------+-------------------+----------+---------+--------------------+\n",
      "\n"
     ]
    }
   ],
   "source": [
    "customers_sql = spark.sql(\"SELECT * FROM customers WHERE email LIKE '%c%';\")\n",
    "customers_sql.show()"
   ]
  },
  {
   "cell_type": "code",
   "execution_count": null,
   "id": "dffd0b36-0897-4d12-954b-20d88efbe0ff",
   "metadata": {},
   "outputs": [],
   "source": []
  }
 ],
 "metadata": {
  "kernelspec": {
   "display_name": "Python 3 (ipykernel)",
   "language": "python",
   "name": "python3"
  },
  "language_info": {
   "codemirror_mode": {
    "name": "ipython",
    "version": 3
   },
   "file_extension": ".py",
   "mimetype": "text/x-python",
   "name": "python",
   "nbconvert_exporter": "python",
   "pygments_lexer": "ipython3",
   "version": "3.10.9"
  }
 },
 "nbformat": 4,
 "nbformat_minor": 5
}
