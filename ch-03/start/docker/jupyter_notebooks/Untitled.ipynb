{
 "cells": [
  {
   "cell_type": "markdown",
   "id": "74d0bdfa-f6f5-4b53-b0ed-1f25f3226a55",
   "metadata": {},
   "source": [
    "# Introduction to Spark on JupyterNotebook"
   ]
  },
  {
   "cell_type": "code",
   "execution_count": null,
   "id": "644d4615-a76f-4f99-9252-0fce1b5e22ef",
   "metadata": {},
   "outputs": [],
   "source": []
  }
 ],
 "metadata": {
  "kernelspec": {
   "display_name": "Python 3 (ipykernel)",
   "language": "python",
   "name": "python3"
  },
  "language_info": {
   "codemirror_mode": {
    "name": "ipython",
    "version": 3
   },
   "file_extension": ".py",
   "mimetype": "text/x-python",
   "name": "python",
   "nbconvert_exporter": "python",
   "pygments_lexer": "ipython3",
   "version": "3.9.7"
  }
 },
 "nbformat": 4,
 "nbformat_minor": 5
}
